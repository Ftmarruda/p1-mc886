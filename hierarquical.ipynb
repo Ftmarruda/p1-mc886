{
 "metadata": {
  "language_info": {
   "codemirror_mode": {
    "name": "ipython",
    "version": 3
   },
   "file_extension": ".py",
   "mimetype": "text/x-python",
   "name": "python",
   "nbconvert_exporter": "python",
   "pygments_lexer": "ipython3",
   "version": "3.8.5-final"
  },
  "orig_nbformat": 2,
  "kernelspec": {
   "name": "python385jvsc74a57bd09a94ca9f525866a261db2c565a54f0cd18a53db00fa674a50fa4c97d80740809",
   "display_name": "Python 3.8.5 64-bit"
  },
  "metadata": {
   "interpreter": {
    "hash": "9a94ca9f525866a261db2c565a54f0cd18a53db00fa674a50fa4c97d80740809"
   }
  }
 },
 "nbformat": 4,
 "nbformat_minor": 2,
 "cells": [
  {
   "source": [
    "# Notebook para desenvolvimento do método Hierarquical para o projeto 1 de Machine learning\n",
    "\n",
    "#Desenvolvido por Felipe Arruda (RA: 196862) e Leonardo Koike (RA: 201332)\n",
    "\n",
    "#2021"
   ],
   "cell_type": "markdown",
   "metadata": {}
  },
  {
   "cell_type": "code",
   "execution_count": null,
   "metadata": {},
   "outputs": [],
   "source": [
    "#imports\n",
    "import numpy as np\n",
    "import matplotlib.pyplot as plt\n",
    "import matplotlib.cm as cm\n",
    "from typing import Dic"
   ]
  },
  {
   "cell_type": "code",
   "execution_count": null,
   "metadata": {},
   "outputs": [],
   "source": [
    "# Dados carregados em um numpy array\n",
    "data = np.loadtxt('cluster.dat')"
   ]
  },
  {
   "cell_type": "code",
   "execution_count": null,
   "metadata": {},
   "outputs": [],
   "source": [
    "# Dados normalizados que serão utilizados como uma comparação \n",
    "data_norm = data/data.max(axis=0)"
   ]
  },
  {
   "cell_type": "code",
   "execution_count": null,
   "metadata": {},
   "outputs": [],
   "source": [
    "# divisão para dados de treinamento e dados de teste\n",
    "np.random.shuffle(data_norm)\n",
    "train_index_norm = int(data_norm.shape[0]*0.9)\n",
    "train_data_norm,test_data_norm = np.vsplit(data_norm,[train_index_norm])"
   ]
  },
  {
   "source": [
    "def hierarquical():\n",
    "    pass"
   ],
   "cell_type": "code",
   "metadata": {},
   "execution_count": null,
   "outputs": []
  }
 ]
}