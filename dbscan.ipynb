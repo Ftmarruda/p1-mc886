{
 "metadata": {
  "language_info": {
   "codemirror_mode": {
    "name": "ipython",
    "version": 3
   },
   "file_extension": ".py",
   "mimetype": "text/x-python",
   "name": "python",
   "nbconvert_exporter": "python",
   "pygments_lexer": "ipython3",
   "version": "3.8.5-final"
  },
  "orig_nbformat": 2,
  "kernelspec": {
   "name": "python385jvsc74a57bd09a94ca9f525866a261db2c565a54f0cd18a53db00fa674a50fa4c97d80740809",
   "display_name": "Python 3.8.5 64-bit"
  },
  "metadata": {
   "interpreter": {
    "hash": "9a94ca9f525866a261db2c565a54f0cd18a53db00fa674a50fa4c97d80740809"
   }
  }
 },
 "nbformat": 4,
 "nbformat_minor": 2,
 "cells": [
  {
   "cell_type": "code",
   "execution_count": 60,
   "metadata": {},
   "outputs": [],
   "source": [
    "#imports\n",
    "import numpy as np\n",
    "import matplotlib.pyplot as plt\n",
    "import matplotlib.cm as cm"
   ]
  },
  {
   "cell_type": "code",
   "execution_count": 61,
   "metadata": {},
   "outputs": [],
   "source": [
    "# Dados carregados em um numpy array\n",
    "data = np.loadtxt('cluster.dat')"
   ]
  },
  {
   "cell_type": "code",
   "execution_count": null,
   "metadata": {},
   "outputs": [],
   "source": [
    "# Dados normalizados que serão utilizados como uma comparação \n",
    "data_norm = data/data.max(axis=0)"
   ]
  },
  {
   "cell_type": "code",
   "execution_count": null,
   "metadata": {},
   "outputs": [],
   "source": [
    "# divisão para dados de treinamento e dados de teste\n",
    "np.random.shuffle(data_norm)\n",
    "train_index_norm = int(data_norm.shape[0]*0.9)\n",
    "train_data_norm,test_data_norm = np.vsplit(data_norm,[train_index_norm])"
   ]
  },
  {
   "cell_type": "code",
   "execution_count": 157,
   "metadata": {},
   "outputs": [],
   "source": [
    "def dbscan(data_in: np.ndarray, radius_of_neighborhood: float, number_of_neighbors: int) -> np.ndarray:\n",
    "    #inicialização da lista de classificação dos pontos\n",
    "    core_points = []\n",
    "    border_points = []\n",
    "    outliers =[]\n",
    "\n",
    "    #mepamento de todos os pontos do dataset, mantem a lista de quais não foram visitados ainda\n",
    "    availabe_points = []\n",
    "    for i in range(data_in.shape[0]):\n",
    "        availabe_points.append(i)\n",
    "    \n",
    "    #escolha aleatoria de um ponto\n",
    "    index_list = [np.random.choice(data.shape[0])]\n",
    "    \n",
    "    #enquanto ainda houver pontos não visitados, este laço é executado\n",
    "    while availabe_points:\n",
    "        \n",
    "        #se existe elemento em index_list, ele retira o topo e continua o processamento\n",
    "        #se não ele escolhe um aleatório dos pontos disponíveis\n",
    "        if index_list:\n",
    "            point = index_list.pop(0)\n",
    "        else:\n",
    "            point = availabe_points[np.random.choice(len(availabe_points))]\n",
    "        \n",
    "        #remove o ponto utilizado da lista de pontos disponíveis\n",
    "        availabe_points.remove(point)\n",
    "        \n",
    "        #calcula a distância entre o ponto escolhido e todos os outros do dataset\n",
    "        dist = np.linalg.norm(data[point]-data,axis=1)\n",
    "    \n",
    "        #identifica os vizinhos do ponto escolhido de acordo com o raio passado como parâmetro\n",
    "        neighbors = np.where(dist < radius_of_neighborhood)[0]\n",
    "    \n",
    "        #adiciona todos os pontos alcancáveis pelo ponto escolhido se ele ainda não foi processado e se ele já não está presente em index_list\n",
    "        for i in neighbors:\n",
    "            if (i in availabe_points) and (i not in index_list):\n",
    "                index_list.append(i)\n",
    "\n",
    "        #classificação dos pontos\n",
    "        if neighbors.shape[0] >= number_of_neighbors:\n",
    "            core_points.append(point)\n",
    "\n",
    "        \n",
    "    \n",
    "    return\n",
    "\n",
    "def dbclusters(core_points: list):\n",
    "\n",
    "    return\n",
    "\n",
    "def dbfit():\n",
    "    pass"
   ]
  },
  {
   "cell_type": "code",
   "execution_count": 158,
   "metadata": {
    "tags": []
   },
   "outputs": [],
   "source": [
    "a = dbscan(data_in = data, radius_of_neighborhood = 55, number_of_neighbors = 15)"
   ]
  },
  {
   "cell_type": "code",
   "execution_count": 156,
   "metadata": {},
   "outputs": [
    {
     "output_type": "stream",
     "name": "stdout",
     "text": [
      "[296 297 298 299 301 306 307 308 309 310 334 336 337 340 354 355 380 381\n 382 386 390 392 400]\n23\n"
     ]
    }
   ],
   "source": [
    "availabe_points = []\n",
    "for i in range(data.shape[0]):\n",
    "    availabe_points.append(i)\n",
    "\n",
    "index_list = [np.random.choice(data.shape[0])]\n",
    "\n",
    "point = index_list.pop(0)\n",
    "\n",
    "availabe_points.remove(point)\n",
    "\n",
    "dist = np.linalg.norm(data[point]-data,axis=1)\n",
    "    \n",
    "        #identifica os vizinhos do ponto escolhido de acordo com o raio passado como parâmetro\n",
    "neighbors = np.where(dist < 50)[0]\n",
    "print(neighbors)\n",
    "print(neighbors.shape[0])\n",
    "\n",
    "\n",
    "\n"
   ]
  },
  {
   "cell_type": "code",
   "execution_count": null,
   "metadata": {},
   "outputs": [],
   "source": []
  }
 ]
}